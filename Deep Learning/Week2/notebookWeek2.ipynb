{
 "cells": [
  {
   "cell_type": "markdown",
   "metadata": {},
   "source": [
    "## OBS. follow the link below to see the notebook\n",
    "\n",
    "[Link to notebook](http://nbviewer.jupyter.org/github/NicolaiP/NicolaiP.github.io/blob/master/Deep%20Learning/lab1_FFN.ipynb)\n",
    "\n",
    "All my results have been saved as images, and images can't be included when uploading to peergrading, so please follow the link."
   ]
  }
 ],
 "metadata": {
  "kernelspec": {
   "display_name": "Python 2",
   "language": "python",
   "name": "python2"
  },
  "language_info": {
   "codemirror_mode": {
    "name": "ipython",
    "version": 2
   },
   "file_extension": ".py",
   "mimetype": "text/x-python",
   "name": "python",
   "nbconvert_exporter": "python",
   "pygments_lexer": "ipython2",
   "version": "2.7.12"
  }
 },
 "nbformat": 4,
 "nbformat_minor": 0
}
